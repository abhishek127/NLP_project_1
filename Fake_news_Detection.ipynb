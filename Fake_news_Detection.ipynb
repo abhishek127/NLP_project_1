{
 "cells": [
  {
   "cell_type": "code",
   "execution_count": 6,
   "metadata": {},
   "outputs": [],
   "source": [
    "import numpy as np\n",
    "import pandas as pd\n",
    "import itertools\n",
    "from sklearn.model_selection import train_test_split\n",
    "from sklearn.feature_extraction.text import TfidfVectorizer\n",
    "from sklearn.linear_model import PassiveAggressiveClassifier\n",
    "from sklearn.metrics import accuracy_score, confusion_matrix\n",
    "\n",
    "# read dataset of news\n",
    "# df=pd.read_csv(\"C:\\Users\\pratyada\\Documents\\data science projects\\Fake_News_Detection_Machine_learning_project\\Fake_News_Detection_Machine_learning_project\\news\\news.csv\")"
   ]
  },
  {
   "cell_type": "code",
   "execution_count": 32,
   "metadata": {},
   "outputs": [
    {
     "name": "stdout",
     "output_type": "stream",
     "text": [
      "<class 'pandas.core.frame.DataFrame'>\n",
      "RangeIndex: 6335 entries, 0 to 6334\n",
      "Data columns (total 4 columns):\n",
      "Unnamed: 0    6335 non-null int64\n",
      "title         6335 non-null object\n",
      "text          6335 non-null object\n",
      "label         6335 non-null object\n",
      "dtypes: int64(1), object(3)\n",
      "memory usage: 198.0+ KB\n",
      "None\n"
     ]
    },
    {
     "data": {
      "text/html": [
       "<div>\n",
       "<style scoped>\n",
       "    .dataframe tbody tr th:only-of-type {\n",
       "        vertical-align: middle;\n",
       "    }\n",
       "\n",
       "    .dataframe tbody tr th {\n",
       "        vertical-align: top;\n",
       "    }\n",
       "\n",
       "    .dataframe thead th {\n",
       "        text-align: right;\n",
       "    }\n",
       "</style>\n",
       "<table border=\"1\" class=\"dataframe\">\n",
       "  <thead>\n",
       "    <tr style=\"text-align: right;\">\n",
       "      <th></th>\n",
       "      <th>Unnamed: 0</th>\n",
       "      <th>title</th>\n",
       "      <th>text</th>\n",
       "      <th>label</th>\n",
       "    </tr>\n",
       "  </thead>\n",
       "  <tbody>\n",
       "    <tr>\n",
       "      <th>0</th>\n",
       "      <td>8476</td>\n",
       "      <td>You Can Smell Hillary’s Fear</td>\n",
       "      <td>Daniel Greenfield, a Shillman Journalism Fello...</td>\n",
       "      <td>FAKE</td>\n",
       "    </tr>\n",
       "    <tr>\n",
       "      <th>1</th>\n",
       "      <td>10294</td>\n",
       "      <td>Watch The Exact Moment Paul Ryan Committed Pol...</td>\n",
       "      <td>Google Pinterest Digg Linkedin Reddit Stumbleu...</td>\n",
       "      <td>FAKE</td>\n",
       "    </tr>\n",
       "    <tr>\n",
       "      <th>2</th>\n",
       "      <td>3608</td>\n",
       "      <td>Kerry to go to Paris in gesture of sympathy</td>\n",
       "      <td>U.S. Secretary of State John F. Kerry said Mon...</td>\n",
       "      <td>REAL</td>\n",
       "    </tr>\n",
       "    <tr>\n",
       "      <th>3</th>\n",
       "      <td>10142</td>\n",
       "      <td>Bernie supporters on Twitter erupt in anger ag...</td>\n",
       "      <td>— Kaydee King (@KaydeeKing) November 9, 2016 T...</td>\n",
       "      <td>FAKE</td>\n",
       "    </tr>\n",
       "    <tr>\n",
       "      <th>4</th>\n",
       "      <td>875</td>\n",
       "      <td>The Battle of New York: Why This Primary Matters</td>\n",
       "      <td>It's primary day in New York and front-runners...</td>\n",
       "      <td>REAL</td>\n",
       "    </tr>\n",
       "    <tr>\n",
       "      <th>5</th>\n",
       "      <td>6903</td>\n",
       "      <td>Tehran, USA</td>\n",
       "      <td>\\nI’m not an immigrant, but my grandparents ...</td>\n",
       "      <td>FAKE</td>\n",
       "    </tr>\n",
       "    <tr>\n",
       "      <th>6</th>\n",
       "      <td>7341</td>\n",
       "      <td>Girl Horrified At What She Watches Boyfriend D...</td>\n",
       "      <td>Share This Baylee Luciani (left), Screenshot o...</td>\n",
       "      <td>FAKE</td>\n",
       "    </tr>\n",
       "    <tr>\n",
       "      <th>7</th>\n",
       "      <td>95</td>\n",
       "      <td>‘Britain’s Schindler’ Dies at 106</td>\n",
       "      <td>A Czech stockbroker who saved more than 650 Je...</td>\n",
       "      <td>REAL</td>\n",
       "    </tr>\n",
       "    <tr>\n",
       "      <th>8</th>\n",
       "      <td>4869</td>\n",
       "      <td>Fact check: Trump and Clinton at the 'commande...</td>\n",
       "      <td>Hillary Clinton and Donald Trump made some ina...</td>\n",
       "      <td>REAL</td>\n",
       "    </tr>\n",
       "  </tbody>\n",
       "</table>\n",
       "</div>"
      ],
      "text/plain": [
       "   Unnamed: 0                                              title  \\\n",
       "0        8476                       You Can Smell Hillary’s Fear   \n",
       "1       10294  Watch The Exact Moment Paul Ryan Committed Pol...   \n",
       "2        3608        Kerry to go to Paris in gesture of sympathy   \n",
       "3       10142  Bernie supporters on Twitter erupt in anger ag...   \n",
       "4         875   The Battle of New York: Why This Primary Matters   \n",
       "5        6903                                        Tehran, USA   \n",
       "6        7341  Girl Horrified At What She Watches Boyfriend D...   \n",
       "7          95                  ‘Britain’s Schindler’ Dies at 106   \n",
       "8        4869  Fact check: Trump and Clinton at the 'commande...   \n",
       "\n",
       "                                                text label  \n",
       "0  Daniel Greenfield, a Shillman Journalism Fello...  FAKE  \n",
       "1  Google Pinterest Digg Linkedin Reddit Stumbleu...  FAKE  \n",
       "2  U.S. Secretary of State John F. Kerry said Mon...  REAL  \n",
       "3  — Kaydee King (@KaydeeKing) November 9, 2016 T...  FAKE  \n",
       "4  It's primary day in New York and front-runners...  REAL  \n",
       "5    \\nI’m not an immigrant, but my grandparents ...  FAKE  \n",
       "6  Share This Baylee Luciani (left), Screenshot o...  FAKE  \n",
       "7  A Czech stockbroker who saved more than 650 Je...  REAL  \n",
       "8  Hillary Clinton and Donald Trump made some ina...  REAL  "
      ]
     },
     "execution_count": 32,
     "metadata": {},
     "output_type": "execute_result"
    }
   ],
   "source": [
    "df=pd.read_csv(r\"C:\\Users\\pratyada\\Documents\\data science projects\\Fake_News_Detection_Machine_learning_project\\Fake_News_Detection_Machine_learning_project\\news\\news.csv\")\n",
    "print(df.info())\n",
    "df.head(9)"
   ]
  },
  {
   "cell_type": "code",
   "execution_count": 12,
   "metadata": {},
   "outputs": [],
   "source": [
    "labels=df.label\n",
    "# print(labels)\n",
    "x_train,x_test,y_train,y_test=train_test_split(df['text'], labels, test_size=0.2, random_state=7)"
   ]
  },
  {
   "cell_type": "code",
   "execution_count": 25,
   "metadata": {},
   "outputs": [
    {
     "name": "stdout",
     "output_type": "stream",
     "text": [
      "TfidfVectorizer(analyzer='word', binary=False, decode_error='strict',\n",
      "                dtype=<class 'numpy.float64'>, encoding='utf-8',\n",
      "                input='content', lowercase=True, max_df=0.7, max_features=None,\n",
      "                min_df=1, ngram_range=(1, 1), norm='l2', preprocessor=None,\n",
      "                smooth_idf=True, stop_words='english', strip_accents=None,\n",
      "                sublinear_tf=False, token_pattern='(?u)\\\\b\\\\w\\\\w+\\\\b',\n",
      "                tokenizer=None, use_idf=True, vocabulary=None)\n"
     ]
    }
   ],
   "source": [
    "tfidf_vectorizer=TfidfVectorizer(stop_words='english',max_df=0.7)\n",
    "tdf=TfidfVectorizer(stop_words='english',max_df=0.7)\n",
    "print(tdf)"
   ]
  },
  {
   "cell_type": "code",
   "execution_count": 37,
   "metadata": {},
   "outputs": [
    {
     "name": "stdout",
     "output_type": "stream",
     "text": [
      "  (0, 25318)\t0.06356197880227954\n",
      "  (0, 31796)\t0.032835312190384304\n",
      "  (0, 53256)\t0.08468714610538439\n",
      "  (0, 24260)\t0.02591230211547521\n",
      "  (0, 49636)\t0.04842197282925203\n",
      "  (0, 3378)\t0.044440694689591796\n",
      "  (0, 57236)\t0.04731169310146364\n",
      "  (0, 51968)\t0.04086068970720691\n",
      "  (0, 23825)\t0.06665750504864855\n",
      "  (0, 8860)\t0.06997151470751813\n",
      "  (0, 48721)\t0.07298886000547623\n",
      "  (0, 10056)\t0.08875931355939351\n",
      "  (0, 56878)\t0.22907566353089\n",
      "  (0, 8953)\t0.07617756364829195\n",
      "  (0, 17858)\t0.08179789731649102\n",
      "  (0, 57811)\t0.05018134592598926\n",
      "  (0, 23481)\t0.13387265628974546\n",
      "  (0, 18378)\t0.16712933698409224\n",
      "  (0, 9851)\t0.026344757209787056\n",
      "  (0, 27283)\t0.114537831765445\n",
      "  (0, 4259)\t0.1252399574231224\n",
      "  (0, 19585)\t0.06609677424160539\n",
      "  (0, 58158)\t0.03931037043190289\n",
      "  (0, 8952)\t0.06669214616557032\n",
      "  (0, 15390)\t0.18274094576335073\n",
      "  :\t:\n",
      "  (5067, 25194)\t0.06815122596851944\n",
      "  (5067, 40823)\t0.06020842915278987\n",
      "  (5067, 51237)\t0.06880620615191042\n",
      "  (5067, 49605)\t0.06329472428436525\n",
      "  (5067, 37290)\t0.07103104644053512\n",
      "  (5067, 55383)\t0.07547446468030639\n",
      "  (5067, 42708)\t0.06485466744083908\n",
      "  (5067, 42219)\t0.14048090961920684\n",
      "  (5067, 13717)\t0.06308824962480555\n",
      "  (5067, 12961)\t0.12923678067290478\n",
      "  (5067, 56698)\t0.06753166786457682\n",
      "  (5067, 26810)\t0.08403681959997857\n",
      "  (5067, 58513)\t0.07188025218175627\n",
      "  (5067, 18443)\t0.06694389628192306\n",
      "  (5067, 40942)\t0.06950090572888828\n",
      "  (5067, 50907)\t0.08538649936034741\n",
      "  (5067, 54347)\t0.076094022784249\n",
      "  (5067, 19852)\t0.08868305788802776\n",
      "  (5067, 12311)\t0.0807402610722982\n",
      "  (5067, 15063)\t0.09662585470375731\n",
      "  (5067, 17502)\t0.09662585470375731\n",
      "  (5067, 57890)\t0.09662585470375731\n",
      "  (5067, 7909)\t0.10127209299180652\n",
      "  (5067, 23082)\t0.10127209299180652\n",
      "  (5067, 36693)\t0.10127209299180652\n",
      "  (0, 60731)\t0.05899712902382916\n",
      "  (0, 60684)\t0.033385466151529625\n",
      "  (0, 60271)\t0.04581143542258741\n",
      "  (0, 60261)\t0.07937859313949312\n",
      "  (0, 59116)\t0.10997273171965094\n",
      "  (0, 59036)\t0.08042180974421559\n",
      "  (0, 58654)\t0.07128159375531905\n",
      "  (0, 58335)\t0.0678398429566027\n",
      "  (0, 57086)\t0.12429244186413906\n",
      "  (0, 55170)\t0.20939665348422057\n",
      "  (0, 54706)\t0.035492943055135416\n",
      "  (0, 54394)\t0.10596727423829927\n",
      "  (0, 54238)\t0.06234899619642803\n",
      "  (0, 53749)\t0.04942070163765446\n",
      "  (0, 53518)\t0.117529167732626\n",
      "  (0, 53144)\t0.059982387365669215\n",
      "  (0, 52555)\t0.14065295472127948\n",
      "  (0, 52483)\t0.07360851972393109\n",
      "  (0, 51960)\t0.14065295472127948\n",
      "  (0, 51955)\t0.030414611451489323\n",
      "  (0, 51663)\t0.12057034351821985\n",
      "  (0, 51527)\t0.08134873077710283\n",
      "  (0, 51159)\t0.053278054236854326\n",
      "  (0, 51005)\t0.07360851972393109\n",
      "  (0, 50068)\t0.06481045119580665\n",
      "  :\t:\n",
      "  (1266, 16835)\t0.08080116269909657\n",
      "  (1266, 16385)\t0.0655727278454052\n",
      "  (1266, 15999)\t0.03279926109441314\n",
      "  (1266, 14890)\t0.05544599110567492\n",
      "  (1266, 13110)\t0.06697165573835866\n",
      "  (1266, 12885)\t0.05404331760933019\n",
      "  (1266, 12792)\t0.052054416965658004\n",
      "  (1266, 11999)\t0.09393931399068145\n",
      "  (1266, 11425)\t0.061215890922102396\n",
      "  (1266, 11275)\t0.03975222944194533\n",
      "  (1266, 10398)\t0.03928759838998747\n",
      "  (1266, 10334)\t0.052485971705883705\n",
      "  (1266, 9807)\t0.47248142728953435\n",
      "  (1266, 9082)\t0.06889577674672712\n",
      "  (1266, 8639)\t0.09860931312297018\n",
      "  (1266, 7209)\t0.05947909473390904\n",
      "  (1266, 7127)\t0.12219547760308587\n",
      "  (1266, 7021)\t0.09258263295223065\n",
      "  (1266, 6653)\t0.05532410291136702\n",
      "  (1266, 6288)\t0.04255750958351483\n",
      "  (1266, 5568)\t0.04067869750578144\n",
      "  (1266, 5070)\t0.08544954436342893\n",
      "  (1266, 4297)\t0.09929470490549547\n",
      "  (1266, 2510)\t0.04365670001733164\n",
      "  (1266, 2365)\t0.06671538208893119\n"
     ]
    }
   ],
   "source": [
    "# fit tronsform x_train\n",
    "tdf_train=tdf.fit_transform(x_train)\n",
    "print(tdf_train)\n",
    "# transform x_test\n",
    "tdf_test=tdf.transform(x_test)\n",
    "print(tdf_test)"
   ]
  },
  {
   "cell_type": "code",
   "execution_count": 39,
   "metadata": {},
   "outputs": [
    {
     "data": {
      "text/plain": [
       "PassiveAggressiveClassifier(C=1.0, average=False, class_weight=None,\n",
       "                            early_stopping=False, fit_intercept=True,\n",
       "                            loss='hinge', max_iter=100, n_iter_no_change=5,\n",
       "                            n_jobs=None, random_state=None, shuffle=True,\n",
       "                            tol=0.001, validation_fraction=0.1, verbose=0,\n",
       "                            warm_start=False)"
      ]
     },
     "execution_count": 39,
     "metadata": {},
     "output_type": "execute_result"
    }
   ],
   "source": [
    "# initalize PAclassifier\n",
    "pac=PassiveAggressiveClassifier(max_iter=100)\n",
    "pac.fit(tdf_train,y_train)"
   ]
  },
  {
   "cell_type": "code",
   "execution_count": 40,
   "metadata": {},
   "outputs": [],
   "source": [
    "y_pred=pac.predict(tdf_test)"
   ]
  },
  {
   "cell_type": "code",
   "execution_count": 41,
   "metadata": {},
   "outputs": [
    {
     "data": {
      "text/plain": [
       "array([[590,  48],\n",
       "       [ 44, 585]], dtype=int64)"
      ]
     },
     "execution_count": 41,
     "metadata": {},
     "output_type": "execute_result"
    }
   ],
   "source": [
    "confusion_matrix(y_test,y_pred, labels=['FAKE','REAL'])"
   ]
  },
  {
   "cell_type": "code",
   "execution_count": 42,
   "metadata": {},
   "outputs": [
    {
     "name": "stdout",
     "output_type": "stream",
     "text": [
      "Accuracy: 92.74%\n"
     ]
    }
   ],
   "source": [
    "score=accuracy_score(y_test,y_pred)\n",
    "print(f'Accuracy: {round(score*100,2)}%')"
   ]
  },
  {
   "cell_type": "code",
   "execution_count": null,
   "metadata": {},
   "outputs": [],
   "source": []
  },
  {
   "cell_type": "code",
   "execution_count": 13,
   "metadata": {},
   "outputs": [],
   "source": []
  },
  {
   "cell_type": "code",
   "execution_count": null,
   "metadata": {},
   "outputs": [],
   "source": []
  },
  {
   "cell_type": "code",
   "execution_count": null,
   "metadata": {},
   "outputs": [],
   "source": []
  },
  {
   "cell_type": "code",
   "execution_count": null,
   "metadata": {},
   "outputs": [],
   "source": []
  }
 ],
 "metadata": {
  "kernelspec": {
   "display_name": "Python 3",
   "language": "python",
   "name": "python3"
  }
 },
 "nbformat": 4,
 "nbformat_minor": 4
}
